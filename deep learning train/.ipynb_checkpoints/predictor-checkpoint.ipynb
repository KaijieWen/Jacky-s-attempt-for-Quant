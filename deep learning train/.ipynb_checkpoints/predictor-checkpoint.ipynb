{
 "cells": [
  {
   "cell_type": "code",
   "execution_count": 1,
   "id": "89fe511f-808e-4b95-bfe9-79df93f503ba",
   "metadata": {},
   "outputs": [],
   "source": [
    "# predictor.py\n",
    "\n",
    "import numpy as np\n",
    "import tensorflow as tf\n",
    "import joblib\n",
    "\n",
    "def predict_next_close(price_series, model_path=\"bilstm_model.h5\", scaler_path=\"scaler.save\", lookback=60):\n",
    "    # price_series: pandas Series of closing prices\n",
    "    scaler = joblib.load(scaler_path)\n",
    "    model = tf.keras.models.load_model(model_path)\n",
    "    prices = price_series.values.reshape(-1, 1)\n",
    "    prices_scaled = scaler.transform(prices)\n",
    "    X_pred = prices_scaled[-lookback:]\n",
    "    X_pred = np.reshape(X_pred, (1, lookback, 1))\n",
    "    pred_scaled = model.predict(X_pred)\n",
    "    pred_price = scaler.inverse_transform(pred_scaled)\n",
    "    return float(pred_price[0,0])"
   ]
  },
  {
   "cell_type": "code",
   "execution_count": null,
   "id": "29596c8e-bbfe-465c-8304-d33190a4db65",
   "metadata": {},
   "outputs": [],
   "source": []
  }
 ],
 "metadata": {
  "kernelspec": {
   "display_name": "Python 3 (ipykernel)",
   "language": "python",
   "name": "python3"
  },
  "language_info": {
   "codemirror_mode": {
    "name": "ipython",
    "version": 3
   },
   "file_extension": ".py",
   "mimetype": "text/x-python",
   "name": "python",
   "nbconvert_exporter": "python",
   "pygments_lexer": "ipython3",
   "version": "3.12.9"
  }
 },
 "nbformat": 4,
 "nbformat_minor": 5
}
