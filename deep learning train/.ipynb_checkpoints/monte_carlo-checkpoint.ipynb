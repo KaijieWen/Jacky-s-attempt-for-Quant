{
 "cells": [
  {
   "cell_type": "code",
   "execution_count": 1,
   "id": "4233bc0a-ad9e-4da1-8823-42651150a5ae",
   "metadata": {},
   "outputs": [],
   "source": [
    "# monte_carlo.py\n",
    "\n",
    "import numpy as np\n",
    "\n",
    "def simulate_price_paths(last_price, mu, sigma, n_days=30, n_sims=1000):\n",
    "    dt = 1/252\n",
    "    paths = np.zeros((n_sims, n_days))\n",
    "    paths[:,0] = last_price\n",
    "    for t in range(1, n_days):\n",
    "        rand = np.random.normal(0, 1, n_sims)\n",
    "        paths[:,t] = paths[:,t-1] * np.exp((mu - 0.5 * sigma**2) * dt + sigma * np.sqrt(dt) * rand)\n",
    "    return paths\n",
    "\n",
    "def estimate_drift_vol(price_series):\n",
    "    log_returns = np.log(price_series / price_series.shift(1)).dropna()\n",
    "    mu = log_returns.mean() * 252\n",
    "    sigma = log_returns.std() * np.sqrt(252)\n",
    "    return mu, sigma"
   ]
  },
  {
   "cell_type": "code",
   "execution_count": null,
   "id": "64e29df1-58a5-436a-a538-461506555cd3",
   "metadata": {},
   "outputs": [],
   "source": []
  }
 ],
 "metadata": {
  "kernelspec": {
   "display_name": "Python 3 (ipykernel)",
   "language": "python",
   "name": "python3"
  },
  "language_info": {
   "codemirror_mode": {
    "name": "ipython",
    "version": 3
   },
   "file_extension": ".py",
   "mimetype": "text/x-python",
   "name": "python",
   "nbconvert_exporter": "python",
   "pygments_lexer": "ipython3",
   "version": "3.12.9"
  }
 },
 "nbformat": 4,
 "nbformat_minor": 5
}
